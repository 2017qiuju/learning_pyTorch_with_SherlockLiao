{
 "cells": [
  {
   "cell_type": "code",
   "execution_count": 1,
   "metadata": {},
   "outputs": [
    {
     "name": "stdout",
     "output_type": "stream",
     "text": [
      "[NbConvertApp] Converting notebook seqInit.ipynb to python\n",
      "[NbConvertApp] Writing 1404 bytes to seqInit.py\n"
     ]
    }
   ],
   "source": [
    "!jupyter nbconvert --to python seqInit.ipynb"
   ]
  },
  {
   "cell_type": "markdown",
   "metadata": {},
   "source": [
    "---\n",
    "### LSTM模型"
   ]
  },
  {
   "cell_type": "code",
   "execution_count": 5,
   "metadata": {},
   "outputs": [],
   "source": [
    "# 引入torch相关模块\n",
    "import torch\n",
    "from torch import nn, optim\n",
    "from torch.autograd import Variable\n",
    "from torch.nn import init\n",
    "\n",
    "# 引入初始化文件中的相关内容\n",
    "from seqInit import toTs, cudAvl\n",
    "from seqInit import input_size\n",
    "from seqInit import train, real\n",
    "\n",
    "# 引入画图工具\n",
    "import numpy as np\n",
    "import matplotlib.pyplot as plt"
   ]
  },
  {
   "cell_type": "code",
   "execution_count": 14,
   "metadata": {},
   "outputs": [],
   "source": [
    "# 定义LSTM模型\n",
    "\n",
    "class lstmModel(nn.Module) :\n",
    "    def __init__(self, in_dim, hidden_dim, out_dim, layer_num) :\n",
    "        super().__init__()\n",
    "        self.lstmLayer = nn.LSTM(in_dim, hidden_dim, layer_num)\n",
    "        self.fcLayer = nn.Linear(hidden_dim, out_dim)\n",
    "        self.weightInit(np.sqrt(1.0 / hidden_dim))\n",
    "    \n",
    "    def forward(self, x) :\n",
    "        out, _ = self.lstmLayer(x)\n",
    "        out = self.fcLayer(out)\n",
    "        return out\n",
    "    \n",
    "    # 初始化权重\n",
    "    def weightInit(self, gain) :\n",
    "        for name, param in self.named_parameters():\n",
    "            if 'lstmLayer.weight' in name :\n",
    "                init.orthogonal(param)\n",
    "\n",
    "# 输入维度为1，输出维度为1，隐藏层维数为5, 定义LSTM层数为2\n",
    "lstm = cudAvl(lstmModel(1, 5, 1, 2))\n",
    "\n",
    "# 定义损失函数和优化函数\n",
    "\n",
    "criterion = nn.MSELoss()\n",
    "optimizer = optim.Adam(lstm.parameters(), lr = 1e-2)"
   ]
  },
  {
   "cell_type": "code",
   "execution_count": 15,
   "metadata": {},
   "outputs": [
    {
     "name": "stdout",
     "output_type": "stream",
     "text": [
      "torch.Size([119, 1, 1]) torch.Size([119, 1, 1])\n"
     ]
    }
   ],
   "source": [
    "# 处理输入\n",
    "\n",
    "train = train.reshape(-1, 1, 1)\n",
    "x = torch.from_numpy(train[:-1])\n",
    "y = torch.from_numpy(train[1:])\n",
    "print(x.shape, y.shape)"
   ]
  },
  {
   "cell_type": "code",
   "execution_count": 16,
   "metadata": {},
   "outputs": [
    {
     "name": "stdout",
     "output_type": "stream",
     "text": [
      "Epoch[0/100], Loss: 0.00631\n",
      "Epoch[1/100], Loss: 0.00566\n",
      "Epoch[2/100], Loss: 0.00507\n",
      "Epoch[3/100], Loss: 0.00279\n",
      "Epoch[4/100], Loss: 0.00208\n",
      "Epoch[5/100], Loss: 0.00194\n",
      "Epoch[6/100], Loss: 0.00210\n",
      "Epoch[7/100], Loss: 0.00183\n",
      "Epoch[8/100], Loss: 0.00165\n",
      "Epoch[9/100], Loss: 0.00150\n"
     ]
    },
    {
     "data": {
      "image/png": "[encoded data removed]",
      "text/plain": [
       "<matplotlib.figure.Figure at 0x7f4c0c224ef0>"
      ]
     },
     "metadata": {},
     "output_type": "display_data"
    },
    {
     "name": "stdout",
     "output_type": "stream",
     "text": [
      "CPU times: user 3min 43s, sys: 2 s, total: 3min 45s\n",
      "Wall time: 1min 20s\n"
     ]
    }
   ],
   "source": [
    "%%time\n",
    "# 训练模型\n",
    "\n",
    "frq, sec = 1000, 100\n",
    "loss_set = []\n",
    "\n",
    "for e in range(1, frq + 1) :\n",
    "    inputs = cudAvl(Variable(x))\n",
    "    target = cudAvl(Variable(y))\n",
    "    #forward\n",
    "    output = lstm(inputs)\n",
    "    loss = criterion(output, target)\n",
    "    # update paramters\n",
    "    optimizer.zero_grad()\n",
    "    loss.backward()\n",
    "    optimizer.step()\n",
    "    #print training information\n",
    "    print_loss = loss.data[0]\n",
    "    loss_set.append((e, print_loss))\n",
    "    if(e + 1) % sec == 0 :\n",
    "        print('Epoch[{}/{}], Loss: {:.5f}'.format(e // sec, sec, print_loss))\n",
    "\n",
    "# 作出损失函数变化图像\n",
    "pltX = np.array([loss[0] for loss in loss_set])\n",
    "pltY = np.array([loss[1] for loss in loss_set])\n",
    "plt.title('loss function output curve')\n",
    "plt.plot(pltX, pltY)\n",
    "plt.show()"
   ]
  },
  {
   "cell_type": "code",
   "execution_count": 17,
   "metadata": {},
   "outputs": [
    {
     "name": "stdout",
     "output_type": "stream",
     "text": [
      "torch.Size([23, 1, 1]) (23,) (23,)\n"
     ]
    },
    {
     "data": {
      "text/plain": [
       "<matplotlib.legend.Legend at 0x7f4c0c16a710>"
      ]
     },
     "execution_count": 17,
     "metadata": {},
     "output_type": "execute_result"
    },
    {
     "data": {
      "image/png": "[encoded data removed]",
      "text/plain": [
       "<matplotlib.figure.Figure at 0x7f4c0c1f10f0>"
      ]
     },
     "metadata": {},
     "output_type": "display_data"
    }
   ],
   "source": [
    "lstm = lstm.eval()\n",
    "\n",
    "# 预测结果并比较\n",
    "\n",
    "px = real[:-1].reshape(-1, 1, 1)\n",
    "px = torch.from_numpy(px)\n",
    "ry = real[1:].reshape(-1)\n",
    "varX = cudAvl(Variable(px, volatile=True))\n",
    "py = lstm(varX).data\n",
    "py = np.array(py).reshape(-1)\n",
    "print(px.shape, py.shape, ry.shape)\n",
    "\n",
    "# 画出实际结果和预测的结果\n",
    "plt.plot(py, 'r', label='prediction')\n",
    "plt.plot(ry, 'b', label='real')\n",
    "plt.legend(loc='best')\n"
   ]
  }
 ],
 "metadata": {
  "kernelspec": {
   "display_name": "Python 3",
   "language": "python",
   "name": "python3"
  },
  "language_info": {
   "codemirror_mode": {
    "name": "ipython",
    "version": 3
   },
   "file_extension": ".py",
   "mimetype": "text/x-python",
   "name": "python",
   "nbconvert_exporter": "python",
   "pygments_lexer": "ipython3",
   "version": "3.6.4"
  }
 },
 "nbformat": 4,
 "nbformat_minor": 2
}
