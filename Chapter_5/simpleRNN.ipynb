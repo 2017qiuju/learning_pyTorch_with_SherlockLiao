{
 "cells": [
  {
   "cell_type": "code",
   "execution_count": 1,
   "metadata": {},
   "outputs": [],
   "source": [
    "import torch\n",
    "from torch.autograd import Variable\n",
    "from torch import nn, optim\n",
    "from torch.nn import init"
   ]
  },
  {
   "cell_type": "code",
   "execution_count": 2,
   "metadata": {},
   "outputs": [],
   "source": [
    "# 建立简单的循环神经网络\n",
    "\n",
    "basic_rnn = nn.RNN(input_size=3, hidden_size=5, num_layers=2)"
   ]
  },
  {
   "cell_type": "code",
   "execution_count": 3,
   "metadata": {},
   "outputs": [
    {
     "data": {
      "text/plain": [
       "Parameter containing:\n",
       "-0.1112  0.2628  0.1495\n",
       " 0.1603 -0.1001  0.3113\n",
       "-0.4424 -0.1005  0.4075\n",
       "-0.2655  0.3551 -0.1439\n",
       "-0.3844 -0.0967 -0.3633\n",
       "[torch.FloatTensor of size 5x3]"
      ]
     },
     "execution_count": 3,
     "metadata": {},
     "output_type": "execute_result"
    }
   ],
   "source": [
    "# 访问第一层网络的 $w_{ih}$\n",
    "\n",
    "basic_rnn.weight_ih_l0"
   ]
  },
  {
   "cell_type": "code",
   "execution_count": 4,
   "metadata": {},
   "outputs": [
    {
     "data": {
      "text/plain": [
       "Parameter containing:\n",
       " 0.1439  0.3314  0.3529 -0.1162 -0.3620\n",
       "-0.4442 -0.3218 -0.0524  0.0589  0.2203\n",
       "-0.2658 -0.3689  0.3184 -0.2990  0.2740\n",
       " 0.0691 -0.2877  0.2686  0.1879  0.0483\n",
       "-0.2170 -0.1776  0.3820  0.0812  0.2301\n",
       "[torch.FloatTensor of size 5x5]"
      ]
     },
     "execution_count": 4,
     "metadata": {},
     "output_type": "execute_result"
    }
   ],
   "source": [
    "# 访问第二层的 $w_{ih}$\n",
    "\n",
    "basic_rnn.weight_ih_l1"
   ]
  },
  {
   "cell_type": "code",
   "execution_count": 5,
   "metadata": {},
   "outputs": [
    {
     "data": {
      "text/plain": [
       "Parameter containing:\n",
       " 0.0741  0.1132  0.3278  0.2728 -0.2957\n",
       "-0.0010  0.0637  0.3922 -0.4059 -0.2516\n",
       " 0.2642  0.4317  0.2991 -0.0331 -0.2290\n",
       "-0.2472 -0.2787  0.1508 -0.1960  0.2359\n",
       "-0.3510 -0.4087  0.0130 -0.0380  0.0738\n",
       "[torch.FloatTensor of size 5x5]"
      ]
     },
     "execution_count": 5,
     "metadata": {},
     "output_type": "execute_result"
    }
   ],
   "source": [
    "# 访问第一层的 $w_{hh}$\n",
    "\n",
    "basic_rnn.weight_hh_l1"
   ]
  },
  {
   "cell_type": "code",
   "execution_count": 6,
   "metadata": {},
   "outputs": [
    {
     "data": {
      "text/plain": [
       "Parameter containing:\n",
       " 0.1168\n",
       "-0.4085\n",
       " 0.2956\n",
       " 0.0067\n",
       " 0.1463\n",
       "[torch.FloatTensor of size 5]"
      ]
     },
     "execution_count": 6,
     "metadata": {},
     "output_type": "execute_result"
    }
   ],
   "source": [
    "# 访问第一层的 $b_{ih}$\n",
    "\n",
    "basic_rnn.bias_ih_l0"
   ]
  },
  {
   "cell_type": "code",
   "execution_count": 7,
   "metadata": {},
   "outputs": [],
   "source": [
    "# 输入的序列长度为5，批量是10，维度是3\n",
    "toy_input = Variable(torch.randn(5, 10, 3))\n",
    "\n",
    "# 初始隐藏状态 layer * direction = 2, 批量是10，维度是5\n",
    "h_0 = Variable(torch.randn(2, 10, 5))"
   ]
  },
  {
   "cell_type": "code",
   "execution_count": 8,
   "metadata": {},
   "outputs": [
    {
     "name": "stdout",
     "output_type": "stream",
     "text": [
      "torch.Size([5, 10, 5])\n",
      "torch.Size([2, 10, 5])\n"
     ]
    }
   ],
   "source": [
    "toy_output, h_n = basic_rnn(toy_input, h_0)\n",
    "\n",
    "# toy_output的形状应该为 (5, 10, 5)\n",
    "# h_n 的形状应该为 (2, 10, 5)\n",
    "print(toy_output.shape)\n",
    "print(h_n.shape)"
   ]
  },
  {
   "cell_type": "code",
   "execution_count": null,
   "metadata": {},
   "outputs": [],
   "source": []
  }
 ],
 "metadata": {
  "kernelspec": {
   "display_name": "Python 3",
   "language": "python",
   "name": "python3"
  },
  "language_info": {
   "codemirror_mode": {
    "name": "ipython",
    "version": 3
   },
   "file_extension": ".py",
   "mimetype": "text/x-python",
   "name": "python",
   "nbconvert_exporter": "python",
   "pygments_lexer": "ipython3",
   "version": "3.6.4"
  }
 },
 "nbformat": 4,
 "nbformat_minor": 2
}
