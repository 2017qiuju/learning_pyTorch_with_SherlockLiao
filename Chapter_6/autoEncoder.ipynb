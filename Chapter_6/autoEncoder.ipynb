{
 "cells": [
  {
   "cell_type": "markdown",
   "metadata": {},
   "source": [
    "# AutoEncoder\n",
    "---\n",
    "自动编码器的主要应用有两个方面，第一是**数据去噪**，第二是进行**可视化降维**。自动编码器还有一个功能，即**生成数据**。\n",
    "\n",
    "编码器和解码器可以是任意模型，通常使用神经网络模型作为编码器和解码器。\n",
    "\n",
    "输入的数据经过神经网络降维到一个编码(code)，接着通过另外一个网络剧解码得到一个和输入原数据一模一样的生成数据，然后通过比较这两个数据，最小化它们之间的差异来训练这个网络中编码器和解码器的参数。\n",
    "\n",
    "当这个过程训练完后，拿出这个解码器，随机传入一个编码(code)，通过解码器能够生成一个和原数据差不多的数据，"
   ]
  },
  {
   "cell_type": "code",
   "execution_count": 1,
   "metadata": {
    "collapsed": true
   },
   "outputs": [],
   "source": [
    "import torch\n",
    "import torch.nn as nn\n",
    "from torch.autograd import Variable\n",
    "import matplotlib.pyplot as plt\n",
    "%matplotlib inline"
   ]
  },
  {
   "cell_type": "code",
   "execution_count": 2,
   "metadata": {
    "collapsed": true
   },
   "outputs": [],
   "source": [
    "cudAvl = lambda x : x.cuda() if torch.cuda.is_available() else x"
   ]
  },
  {
   "cell_type": "code",
   "execution_count": 3,
   "metadata": {
    "collapsed": true
   },
   "outputs": [],
   "source": [
    "class autoencoder(nn.Module):\n",
    "    def __init__(self):\n",
    "        super().__init__()\n",
    "        self.encoder = nn.Sequential(\n",
    "            nn.Linear(28*28, 128),\n",
    "            nn.ReLU(True),\n",
    "            nn.Linear(128, 64),\n",
    "            nn.ReLU(True),\n",
    "            nn.Linear(64, 12),\n",
    "            nn.ReLU(True),\n",
    "            nn.Linear(12, 3)\n",
    "        )\n",
    "        \n",
    "        self.decoder = nn.Sequential(\n",
    "            nn.Linear(3, 12),\n",
    "            nn.ReLU(True),\n",
    "            nn.Linear(12, 64),\n",
    "            nn.ReLU(True),\n",
    "            nn.Linear(64, 128),\n",
    "            nn.ReLU(True),\n",
    "            nn.Linear(128, 28*28),\n",
    "            nn.Tanh()\n",
    "        )\n",
    "    \n",
    "    def forward(self, x):\n",
    "        code = self.encoder(x)\n",
    "        imgTensor = self.decoder(code)\n",
    "        return code, imgTensor\n",
    "    \n",
    "    def encode(self, x):\n",
    "        return self.encoder(x)\n",
    "    \n",
    "    def decode(self, x):\n",
    "        return self.decoder(x)"
   ]
  },
  {
   "cell_type": "code",
   "execution_count": 4,
   "metadata": {
    "collapsed": true
   },
   "outputs": [],
   "source": [
    "net = autoencoder()\n",
    "net = cudAvl(net)\n",
    "criterion = nn.MSELoss()\n",
    "optimizer = torch.optim.Adam(net.parameters(), lr=1e-3)"
   ]
  },
  {
   "cell_type": "code",
   "execution_count": 5,
   "metadata": {},
   "outputs": [
    {
     "name": "stdout",
     "output_type": "stream",
     "text": [
      "42000 784\n"
     ]
    }
   ],
   "source": [
    "import csv\n",
    "\n",
    "with open('train.csv') as f :\n",
    "    lines = csv.reader(f)\n",
    "    label, attr = [], []\n",
    "    for line in lines :\n",
    "        if lines.line_num == 1 :\n",
    "            continue\n",
    "        label.append(int(line[0]))\n",
    "        attr.append([float(j) for j in line[1:]])\n",
    "print(len(label), len(attr[1]))"
   ]
  },
  {
   "cell_type": "code",
   "execution_count": 6,
   "metadata": {},
   "outputs": [
    {
     "data": {
      "text/plain": [
       "torch.Size([42000, 784])"
      ]
     },
     "execution_count": 6,
     "metadata": {},
     "output_type": "execute_result"
    }
   ],
   "source": [
    "digTensor = torch.FloatTensor(attr)\n",
    "digTensor = digTensor / 255.0\n",
    "digTensor.shape"
   ]
  },
  {
   "cell_type": "code",
   "execution_count": 7,
   "metadata": {},
   "outputs": [
    {
     "name": "stdout",
     "output_type": "stream",
     "text": [
      "epoch [100/1500]: 0.060638703405857086\n",
      "epoch [200/1500]: 0.054529376327991486\n",
      "epoch [300/1500]: 0.04719305410981178\n",
      "epoch [400/1500]: 0.04337755963206291\n",
      "epoch [500/1500]: 0.04141037538647652\n",
      "epoch [600/1500]: 0.04016782343387604\n",
      "epoch [700/1500]: 0.03903444856405258\n",
      "epoch [800/1500]: 0.03819078952074051\n",
      "epoch [900/1500]: 0.03760655224323273\n",
      "epoch [1000/1500]: 0.03708941116929054\n",
      "epoch [1100/1500]: 0.03672504425048828\n",
      "epoch [1200/1500]: 0.036369018256664276\n",
      "epoch [1300/1500]: 0.03620900958776474\n",
      "epoch [1400/1500]: 0.0358416810631752\n",
      "epoch [1500/1500]: 0.03567218407988548\n"
     ]
    },
    {
     "data": {
      "image/png": "[encoded data removed]",
      "text/plain": [
       "<matplotlib.figure.Figure at 0x7efde2fcedd8>"
      ]
     },
     "metadata": {},
     "output_type": "display_data"
    }
   ],
   "source": [
    "epoch = 1500\n",
    "pltX, pltY = [], []\n",
    "for e in range(epoch):\n",
    "    pltX.append(e)\n",
    "    Input = cudAvl(Variable(digTensor))\n",
    "    Target = cudAvl(Variable(digTensor))\n",
    "    _, Output = net(Input)\n",
    "    loss = criterion(Output,Target)\n",
    "    print_loss = loss.data[0]\n",
    "    pltY.append(print_loss)\n",
    "    optimizer.zero_grad()\n",
    "    loss.backward()\n",
    "    optimizer.step()\n",
    "    if (e + 1) % 100 == 0:\n",
    "        print('epoch [%s/%s]: %s' %(e + 1, epoch, print_loss))\n",
    "\n",
    "plt.title('loss function output curve')\n",
    "plt.plot(pltX, pltY)\n",
    "plt.show()"
   ]
  },
  {
   "cell_type": "code",
   "execution_count": 8,
   "metadata": {},
   "outputs": [],
   "source": [
    "net.eval()\n",
    "\n",
    "from PIL import  Image\n",
    "import numpy as np\n",
    "\n",
    "def getImage(matrix):\n",
    "    dig = np.array(matrix.numpy()).reshape((28, 28))\n",
    "    digImg = Image.fromarray(dig * 255)\n",
    "    digImg = digImg.convert('L')\n",
    "    return digImg\n",
    "\n",
    "def compare(matrix):\n",
    "    before = getImage(matrix)\n",
    "    plt.subplot(121)\n",
    "    plt.title('before encoding')\n",
    "    plt.imshow(before)\n",
    "    \n",
    "    matrix = matrix.unsqueeze(0)\n",
    "    In = cudAvl(Variable(matrix))\n",
    "    code, Out = net(In)\n",
    "    if torch.cuda.is_available():\n",
    "        Out = Out.cpu()\n",
    "    after = getImage(Out.data)\n",
    "    \n",
    "    plt.subplot(122)\n",
    "    plt.title('after encoding')\n",
    "    plt.imshow(after)\n",
    "    print(code)"
   ]
  },
  {
   "cell_type": "code",
   "execution_count": 9,
   "metadata": {},
   "outputs": [
    {
     "name": "stdout",
     "output_type": "stream",
     "text": [
      "image index = 36321 , number =  7 \n",
      "\n",
      "Variable containing:\n",
      " 16.3739   4.2254  -0.1466\n",
      "[torch.cuda.FloatTensor of size 1x3 (GPU 0)]\n",
      "\n"
     ]
    },
    {
     "data": {
      "image/png": "[encoded data removed]",
      "text/plain": [
       "<matplotlib.figure.Figure at 0x7efde3276fd0>"
      ]
     },
     "metadata": {},
     "output_type": "display_data"
    }
   ],
   "source": [
    "import random\n",
    "index = random.randint(0, digTensor.shape[0])\n",
    "print('image index =', index, ', number = ', label[index], '\\n')\n",
    "compare(digTensor[index])"
   ]
  },
  {
   "cell_type": "markdown",
   "metadata": {},
   "source": [
    "效果还不错~"
   ]
  }
 ],
 "metadata": {
  "kernelspec": {
   "display_name": "Python 3",
   "language": "python",
   "name": "python3"
  },
  "language_info": {
   "codemirror_mode": {
    "name": "ipython",
    "version": 3
   },
   "file_extension": ".py",
   "mimetype": "text/x-python",
   "name": "python",
   "nbconvert_exporter": "python",
   "pygments_lexer": "ipython3",
   "version": "3.6.2"
  }
 },
 "nbformat": 4,
 "nbformat_minor": 2
}
